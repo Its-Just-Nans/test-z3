{
 "cells": [
  {
   "cell_type": "code",
   "execution_count": 31,
   "metadata": {},
   "outputs": [],
   "source": [
    "from z3 import Int, Solver, Sum, sat, If"
   ]
  },
  {
   "cell_type": "code",
   "execution_count": 32,
   "metadata": {},
   "outputs": [],
   "source": [
    "def proof():\n",
    "    X = [[Int(f\"a[{i}][{j}]\") for i in range(9)] for j in range(9)]\n",
    "\n",
    "    s = Solver()\n",
    "\n",
    "    sum_h = [Sum([X[i][j] for i in range(9)]) == 45 for j in range(9)]\n",
    "    s.add(sum_h)\n",
    "\n",
    "    sum_v = [Sum([X[j][i] for i in range(9)]) == 45 for j in range(9)]\n",
    "    s.add(sum_v)\n",
    "\n",
    "    square = [\n",
    "        Sum([X[3 * i0 + i][3 * j0 + j] for i in range(3) for j in range(3)]) == 45\n",
    "        for i0 in range(3)\n",
    "        for j0 in range(3)\n",
    "    ]\n",
    "    s.add(square)\n",
    "\n",
    "    single_list = [item for sublist in X for item in sublist]\n",
    "    counting = [Sum([If(num == j+1, 1, 0) for num in single_list]) == 9 for j in range(9)]\n",
    "    s.add(*counting)\n",
    "\n",
    "\n",
    "    if s.check() == sat:\n",
    "        print(\"Solvable\")\n",
    "        m = s.model()\n",
    "        r = [[m.evaluate(X[i][j]) for j in range(9)] for i in range(9)]\n",
    "        print(\"Solution:\")\n",
    "        for row in r:\n",
    "            print(row)\n",
    "    else:\n",
    "        print(\"Not solvable\")\n"
   ]
  },
  {
   "cell_type": "code",
   "execution_count": 33,
   "metadata": {},
   "outputs": [],
   "source": [
    "proof()"
   ]
  }
 ],
 "metadata": {
  "kernelspec": {
   "display_name": "Python 3",
   "language": "python",
   "name": "python3"
  },
  "language_info": {
   "codemirror_mode": {
    "name": "ipython",
    "version": 3
   },
   "file_extension": ".py",
   "mimetype": "text/x-python",
   "name": "python",
   "nbconvert_exporter": "python",
   "pygments_lexer": "ipython3",
   "version": "3.10.12"
  }
 },
 "nbformat": 4,
 "nbformat_minor": 2
}
